{
  "nbformat": 4,
  "nbformat_minor": 0,
  "metadata": {
    "colab": {
      "provenance": [],
      "collapsed_sections": [],
      "mount_file_id": "1m-lOmafuTGcAolslIwNZTDmf1cBtxN44",
      "authorship_tag": "ABX9TyOH9Bt4qQjMVG61PVN5nJWh",
      "include_colab_link": true
    },
    "kernelspec": {
      "name": "python3",
      "display_name": "Python 3"
    },
    "language_info": {
      "name": "python"
    }
  },
  "cells": [
    {
      "cell_type": "markdown",
      "metadata": {
        "id": "view-in-github",
        "colab_type": "text"
      },
      "source": [
        "<a href=\"https://colab.research.google.com/github/nesrinyakar/UrbanSoundsClassificationProject-GAIH/blob/main/Preprocessing.ipynb\" target=\"_parent\"><img src=\"https://colab.research.google.com/assets/colab-badge.svg\" alt=\"Open In Colab\"/></a>"
      ]
    },
    {
      "cell_type": "code",
      "execution_count": 1,
      "metadata": {
        "id": "hMHT1wl6rbRQ",
        "colab": {
          "base_uri": "https://localhost:8080/"
        },
        "outputId": "3f7a2996-3d74-4780-a1b6-e25c935662ea"
      },
      "outputs": [
        {
          "output_type": "stream",
          "name": "stdout",
          "text": [
            "Drive already mounted at /content/drive; to attempt to forcibly remount, call drive.mount(\"/content/drive\", force_remount=True).\n"
          ]
        }
      ],
      "source": [
        "from google.colab import drive\n",
        "drive.mount('/content/drive')"
      ]
    },
    {
      "cell_type": "code",
      "source": [
        "!pwd #to look at where in"
      ],
      "metadata": {
        "colab": {
          "base_uri": "https://localhost:8080/"
        },
        "id": "cBWWmtrtQOl5",
        "outputId": "387e6119-3301-492d-fa04-362eafd1509b"
      },
      "execution_count": 2,
      "outputs": [
        {
          "output_type": "stream",
          "name": "stdout",
          "text": [
            "/content\n"
          ]
        }
      ]
    },
    {
      "cell_type": "code",
      "source": [
        "import pandas as pd\n",
        "import numpy as np\n",
        "from sklearn.model_selection import train_test_split\n",
        "import cv2\n",
        "import glob"
      ],
      "metadata": {
        "id": "uAQwgwoQQT59"
      },
      "execution_count": 3,
      "outputs": []
    },
    {
      "cell_type": "code",
      "source": [
        "data_list = []"
      ],
      "metadata": {
        "id": "9yfncEwdnvaR"
      },
      "execution_count": 4,
      "outputs": []
    },
    {
      "cell_type": "code",
      "source": [
        "#Reading spectrograms and grayscale mode, resize, normalization\n",
        "for num in range(0, 10):\n",
        "  for img in glob.glob('/content/drive/MyDrive/spectrograms/'+str(num)+'/*.png'):\n",
        "   grayscaled_images = cv2.imread(img, 0)\n",
        "   resized_images = cv2.resize(grayscaled_images, (100, 100), interpolation = cv2.INTER_AREA)\n",
        "   normalized_images = resized_images/255\n",
        "   data_list.append([normalized_images, num])"
      ],
      "metadata": {
        "id": "z3LwddJBfb8h"
      },
      "execution_count": 5,
      "outputs": []
    },
    {
      "cell_type": "code",
      "source": [
        "data_list[0]"
      ],
      "metadata": {
        "colab": {
          "base_uri": "https://localhost:8080/"
        },
        "id": "Knz0W-qYx7Pn",
        "outputId": "6025e782-848f-4482-cb29-6f72926ffed5"
      },
      "execution_count": 6,
      "outputs": [
        {
          "output_type": "execute_result",
          "data": {
            "text/plain": [
              "[array([[0.98431373, 0.        , 0.        , ..., 0.        , 0.        ,\n",
              "         0.        ],\n",
              "        [0.98823529, 0.        , 0.        , ..., 0.        , 0.        ,\n",
              "         0.        ],\n",
              "        [0.98823529, 0.        , 0.        , ..., 0.        , 0.        ,\n",
              "         0.        ],\n",
              "        ...,\n",
              "        [0.98823529, 0.38823529, 0.52941176, ..., 0.62745098, 0.61176471,\n",
              "         0.58823529],\n",
              "        [0.98823529, 0.30588235, 0.40392157, ..., 0.48235294, 0.44705882,\n",
              "         0.4       ],\n",
              "        [1.        , 0.98823529, 0.98823529, ..., 0.98823529, 0.98823529,\n",
              "         0.98823529]]), 0]"
            ]
          },
          "metadata": {},
          "execution_count": 6
        }
      ]
    },
    {
      "cell_type": "code",
      "source": [
        "X = []\n",
        "y = []\n",
        "for images, labels in data_list:\n",
        "  X.append(images)\n",
        "  y.append(labels)"
      ],
      "metadata": {
        "id": "dBREq40Hvi_a"
      },
      "execution_count": 7,
      "outputs": []
    },
    {
      "cell_type": "code",
      "source": [
        "X[0]"
      ],
      "metadata": {
        "colab": {
          "base_uri": "https://localhost:8080/"
        },
        "id": "OMPx_4CV3tCP",
        "outputId": "c92d15c2-6f93-47be-cad6-41c13ec7c22e"
      },
      "execution_count": 8,
      "outputs": [
        {
          "output_type": "execute_result",
          "data": {
            "text/plain": [
              "array([[0.98431373, 0.        , 0.        , ..., 0.        , 0.        ,\n",
              "        0.        ],\n",
              "       [0.98823529, 0.        , 0.        , ..., 0.        , 0.        ,\n",
              "        0.        ],\n",
              "       [0.98823529, 0.        , 0.        , ..., 0.        , 0.        ,\n",
              "        0.        ],\n",
              "       ...,\n",
              "       [0.98823529, 0.38823529, 0.52941176, ..., 0.62745098, 0.61176471,\n",
              "        0.58823529],\n",
              "       [0.98823529, 0.30588235, 0.40392157, ..., 0.48235294, 0.44705882,\n",
              "        0.4       ],\n",
              "       [1.        , 0.98823529, 0.98823529, ..., 0.98823529, 0.98823529,\n",
              "        0.98823529]])"
            ]
          },
          "metadata": {},
          "execution_count": 8
        }
      ]
    },
    {
      "cell_type": "code",
      "source": [
        "# Create X_train, y_train and X_temporary and y_temporary datasets from X and y.\n",
        "X_train, X_temporary, y_train, y_temporary = train_test_split(X, y, train_size=0.8)\n",
        "\n",
        "# Using the X_temporary and y_temporary dataset we just created validation and test datasets.\n",
        "X_val, X_test, y_val, y_test = train_test_split(X_temporary, y_temporary, train_size=0.5)"
      ],
      "metadata": {
        "id": "Q1-f8PvofdT9"
      },
      "execution_count": 9,
      "outputs": []
    },
    {
      "cell_type": "code",
      "source": [
        "type(X_train)"
      ],
      "metadata": {
        "colab": {
          "base_uri": "https://localhost:8080/"
        },
        "id": "ui15eCDl5PPd",
        "outputId": "dfe1ea1b-ed14-463e-9618-adcd82a4c7e0"
      },
      "execution_count": 10,
      "outputs": [
        {
          "output_type": "execute_result",
          "data": {
            "text/plain": [
              "list"
            ]
          },
          "metadata": {},
          "execution_count": 10
        }
      ]
    },
    {
      "cell_type": "code",
      "source": [
        "np.save('X_train', X_train)\n",
        "np.save('X_test', X_test)\n",
        "np.save('X_val', X_val)\n",
        "np.save('y_train', y_train)\n",
        "np.save('y_test', y_test)\n",
        "np.save('y_val', y_val)"
      ],
      "metadata": {
        "id": "NdT3vd3R6zWA"
      },
      "execution_count": 11,
      "outputs": []
    }
  ]
}