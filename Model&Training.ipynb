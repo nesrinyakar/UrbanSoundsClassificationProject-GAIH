{
  "cells": [
    {
      "cell_type": "markdown",
      "metadata": {
        "id": "view-in-github",
        "colab_type": "text"
      },
      "source": [
        "<a href=\"https://colab.research.google.com/github/nesrinyakar/UrbanSoundsClassificationProject-GAIH/blob/main/Model%26Training.ipynb\" target=\"_parent\"><img src=\"https://colab.research.google.com/assets/colab-badge.svg\" alt=\"Open In Colab\"/></a>"
      ]
    },
    {
      "cell_type": "code",
      "execution_count": 5,
      "metadata": {
        "id": "-NROQ1CsrnUw"
      },
      "outputs": [],
      "source": [
        "import tensorflow as tf\n",
        "import numpy as np\n",
        "import matplotlib.pyplot as plt"
      ]
    },
    {
      "cell_type": "code",
      "execution_count": 6,
      "metadata": {
        "id": "OPYJohMZImfZ"
      },
      "outputs": [],
      "source": [
        "X_train = np.load(\"/content/drive/MyDrive/datasets/X_train.npy\")\n",
        "X_test = np.load(\"/content/drive/MyDrive/datasets/X_test.npy\")\n",
        "X_val = np.load(\"/content/drive/MyDrive/datasets/X_val.npy\")\n",
        "y_train = np.load(\"/content/drive/MyDrive/datasets/y_train.npy\")\n",
        "y_test = np.load(\"/content/drive/MyDrive/datasets/y_test.npy\")\n",
        "y_val = np.load(\"/content/drive/MyDrive/datasets/y_val.npy\")"
      ]
    },
    {
      "cell_type": "code",
      "execution_count": 7,
      "metadata": {
        "colab": {
          "base_uri": "https://localhost:8080/"
        },
        "id": "AU6jdslvy2JV",
        "outputId": "25256c7f-58e3-45e1-c1a8-56be73a0b006"
      },
      "outputs": [
        {
          "output_type": "stream",
          "name": "stdout",
          "text": [
            "Epoch 1/50\n",
            "110/110 [==============================] - 128s 1s/step - loss: 2.2725 - accuracy: 0.1327 - val_loss: 2.2003 - val_accuracy: 0.2428\n",
            "Epoch 2/50\n",
            "110/110 [==============================] - 119s 1s/step - loss: 2.1841 - accuracy: 0.1686 - val_loss: 2.0609 - val_accuracy: 0.2417\n",
            "Epoch 3/50\n",
            "110/110 [==============================] - 120s 1s/step - loss: 2.0728 - accuracy: 0.2049 - val_loss: 1.8946 - val_accuracy: 0.3826\n",
            "Epoch 4/50\n",
            "110/110 [==============================] - 120s 1s/step - loss: 1.9909 - accuracy: 0.2424 - val_loss: 1.7584 - val_accuracy: 0.4559\n",
            "Epoch 5/50\n",
            "110/110 [==============================] - 121s 1s/step - loss: 1.9212 - accuracy: 0.2757 - val_loss: 1.6892 - val_accuracy: 0.4536\n",
            "Epoch 6/50\n",
            "110/110 [==============================] - 118s 1s/step - loss: 1.8396 - accuracy: 0.3069 - val_loss: 1.6018 - val_accuracy: 0.4662\n",
            "Epoch 7/50\n",
            "110/110 [==============================] - 119s 1s/step - loss: 1.8176 - accuracy: 0.3258 - val_loss: 1.5394 - val_accuracy: 0.4880\n",
            "Epoch 8/50\n",
            "110/110 [==============================] - 118s 1s/step - loss: 1.7682 - accuracy: 0.3367 - val_loss: 1.4948 - val_accuracy: 0.5361\n",
            "Epoch 9/50\n",
            "110/110 [==============================] - 117s 1s/step - loss: 1.7083 - accuracy: 0.3520 - val_loss: 1.4322 - val_accuracy: 0.4983\n",
            "Epoch 10/50\n",
            "110/110 [==============================] - 118s 1s/step - loss: 1.6804 - accuracy: 0.3682 - val_loss: 1.4482 - val_accuracy: 0.5304\n",
            "Epoch 11/50\n",
            "110/110 [==============================] - 118s 1s/step - loss: 1.6746 - accuracy: 0.3781 - val_loss: 1.3474 - val_accuracy: 0.5670\n",
            "Epoch 12/50\n",
            "110/110 [==============================] - 117s 1s/step - loss: 1.6264 - accuracy: 0.3838 - val_loss: 1.2992 - val_accuracy: 0.6140\n",
            "Epoch 13/50\n",
            "110/110 [==============================] - 119s 1s/step - loss: 1.6162 - accuracy: 0.3855 - val_loss: 1.2829 - val_accuracy: 0.5888\n",
            "Epoch 14/50\n",
            "110/110 [==============================] - 119s 1s/step - loss: 1.5823 - accuracy: 0.3980 - val_loss: 1.2580 - val_accuracy: 0.6197\n",
            "Epoch 15/50\n",
            "110/110 [==============================] - 118s 1s/step - loss: 1.5436 - accuracy: 0.4135 - val_loss: 1.3550 - val_accuracy: 0.5407\n",
            "Epoch 16/50\n",
            "110/110 [==============================] - 119s 1s/step - loss: 1.5269 - accuracy: 0.4100 - val_loss: 1.2933 - val_accuracy: 0.5487\n",
            "Epoch 17/50\n",
            "110/110 [==============================] - 119s 1s/step - loss: 1.5072 - accuracy: 0.4208 - val_loss: 1.2041 - val_accuracy: 0.6403\n",
            "Epoch 18/50\n",
            "110/110 [==============================] - 118s 1s/step - loss: 1.4886 - accuracy: 0.4271 - val_loss: 1.1918 - val_accuracy: 0.6025\n",
            "Epoch 19/50\n",
            "110/110 [==============================] - 119s 1s/step - loss: 1.4643 - accuracy: 0.4358 - val_loss: 1.1615 - val_accuracy: 0.6403\n",
            "Epoch 20/50\n",
            "110/110 [==============================] - 119s 1s/step - loss: 1.4344 - accuracy: 0.4432 - val_loss: 1.1347 - val_accuracy: 0.6231\n",
            "Epoch 21/50\n",
            "110/110 [==============================] - 119s 1s/step - loss: 1.4355 - accuracy: 0.4438 - val_loss: 1.1556 - val_accuracy: 0.5968\n",
            "Epoch 22/50\n",
            "110/110 [==============================] - 117s 1s/step - loss: 1.4105 - accuracy: 0.4543 - val_loss: 1.1694 - val_accuracy: 0.6094\n",
            "Epoch 23/50\n",
            "110/110 [==============================] - 119s 1s/step - loss: 1.4088 - accuracy: 0.4578 - val_loss: 1.2067 - val_accuracy: 0.6071\n",
            "Epoch 24/50\n",
            "110/110 [==============================] - 118s 1s/step - loss: 1.3639 - accuracy: 0.4620 - val_loss: 1.1184 - val_accuracy: 0.6151\n",
            "Epoch 25/50\n",
            "110/110 [==============================] - 117s 1s/step - loss: 1.3651 - accuracy: 0.4684 - val_loss: 1.1368 - val_accuracy: 0.6277\n",
            "Epoch 26/50\n",
            "110/110 [==============================] - 118s 1s/step - loss: 1.3516 - accuracy: 0.4739 - val_loss: 1.0854 - val_accuracy: 0.6793\n",
            "Epoch 27/50\n",
            "110/110 [==============================] - 118s 1s/step - loss: 1.3270 - accuracy: 0.4855 - val_loss: 1.0997 - val_accuracy: 0.6460\n",
            "Epoch 28/50\n",
            "110/110 [==============================] - 117s 1s/step - loss: 1.3191 - accuracy: 0.4943 - val_loss: 1.0738 - val_accuracy: 0.6289\n",
            "Epoch 29/50\n",
            "110/110 [==============================] - 118s 1s/step - loss: 1.2931 - accuracy: 0.4966 - val_loss: 1.0913 - val_accuracy: 0.6850\n",
            "Epoch 30/50\n",
            "110/110 [==============================] - 118s 1s/step - loss: 1.3079 - accuracy: 0.5044 - val_loss: 1.0692 - val_accuracy: 0.6438\n",
            "Epoch 31/50\n",
            "110/110 [==============================] - 118s 1s/step - loss: 1.2868 - accuracy: 0.5047 - val_loss: 1.0594 - val_accuracy: 0.6701\n",
            "Epoch 32/50\n",
            "110/110 [==============================] - 118s 1s/step - loss: 1.2772 - accuracy: 0.5077 - val_loss: 1.0646 - val_accuracy: 0.6449\n",
            "Epoch 33/50\n",
            "110/110 [==============================] - 118s 1s/step - loss: 1.2870 - accuracy: 0.5074 - val_loss: 1.0475 - val_accuracy: 0.6632\n",
            "Epoch 34/50\n",
            "110/110 [==============================] - 117s 1s/step - loss: 1.2614 - accuracy: 0.5112 - val_loss: 1.0527 - val_accuracy: 0.6323\n",
            "Epoch 35/50\n",
            "110/110 [==============================] - 117s 1s/step - loss: 1.2328 - accuracy: 0.5211 - val_loss: 1.0219 - val_accuracy: 0.7022\n",
            "Epoch 36/50\n",
            "110/110 [==============================] - 117s 1s/step - loss: 1.2422 - accuracy: 0.5261 - val_loss: 1.0306 - val_accuracy: 0.6541\n",
            "Epoch 37/50\n",
            "110/110 [==============================] - 117s 1s/step - loss: 1.2129 - accuracy: 0.5297 - val_loss: 1.0530 - val_accuracy: 0.6334\n",
            "Epoch 38/50\n",
            "110/110 [==============================] - 117s 1s/step - loss: 1.2241 - accuracy: 0.5346 - val_loss: 1.0717 - val_accuracy: 0.6781\n",
            "Epoch 39/50\n",
            "110/110 [==============================] - 117s 1s/step - loss: 1.2168 - accuracy: 0.5403 - val_loss: 1.0368 - val_accuracy: 0.6999\n",
            "Epoch 40/50\n",
            "110/110 [==============================] - 117s 1s/step - loss: 1.1585 - accuracy: 0.5490 - val_loss: 1.0149 - val_accuracy: 0.7022\n",
            "Epoch 41/50\n",
            "110/110 [==============================] - 117s 1s/step - loss: 1.1508 - accuracy: 0.5522 - val_loss: 1.0210 - val_accuracy: 0.7079\n",
            "Epoch 42/50\n",
            "110/110 [==============================] - 117s 1s/step - loss: 1.1704 - accuracy: 0.5532 - val_loss: 1.0432 - val_accuracy: 0.6541\n",
            "Epoch 43/50\n",
            "110/110 [==============================] - 116s 1s/step - loss: 1.1557 - accuracy: 0.5609 - val_loss: 1.0091 - val_accuracy: 0.6495\n",
            "Epoch 44/50\n",
            "110/110 [==============================] - 117s 1s/step - loss: 1.1228 - accuracy: 0.5669 - val_loss: 1.0021 - val_accuracy: 0.7228\n",
            "Epoch 45/50\n",
            "110/110 [==============================] - 117s 1s/step - loss: 1.1267 - accuracy: 0.5734 - val_loss: 1.0001 - val_accuracy: 0.7377\n",
            "Epoch 46/50\n",
            "110/110 [==============================] - 117s 1s/step - loss: 1.1134 - accuracy: 0.5711 - val_loss: 1.0067 - val_accuracy: 0.6999\n",
            "Epoch 47/50\n",
            "110/110 [==============================] - 117s 1s/step - loss: 1.0975 - accuracy: 0.5811 - val_loss: 1.0351 - val_accuracy: 0.7125\n",
            "Epoch 48/50\n",
            "110/110 [==============================] - 117s 1s/step - loss: 1.0931 - accuracy: 0.5954 - val_loss: 1.0106 - val_accuracy: 0.7228\n",
            "Epoch 49/50\n",
            "110/110 [==============================] - 117s 1s/step - loss: 1.0982 - accuracy: 0.5855 - val_loss: 1.0140 - val_accuracy: 0.6953\n",
            "Epoch 50/50\n",
            "110/110 [==============================] - 117s 1s/step - loss: 1.0799 - accuracy: 0.5861 - val_loss: 1.0753 - val_accuracy: 0.7010\n"
          ]
        }
      ],
      "source": [
        "model = tf.keras.Sequential()\n",
        "\n",
        "model.add(tf.keras.layers.Conv2D(32,\n",
        "                                 kernel_size=(3,3),\n",
        "                                 strides=(1,1),\n",
        "                                 padding=\"same\",\n",
        "                                 activation=\"relu\",\n",
        "                                 input_shape=(100,100, 1)))\n",
        "model.add(tf.keras.layers.MaxPooling2D((2,2)))\n",
        "model.add(tf.keras.layers.Conv2D(64,\n",
        "                                 kernel_size=(3,3),\n",
        "                                 strides=(1,1),\n",
        "                                 padding=\"same\",\n",
        "                                 activation=\"relu\",\n",
        "                                 input_shape=(100,100, 1)))\n",
        "model.add(tf.keras.layers.MaxPooling2D((2,2)))\n",
        "model.add(tf.keras.layers.Conv2D(128,\n",
        "                                 kernel_size=(3,3),\n",
        "                                 strides=(1,1),\n",
        "                                 padding=\"same\",\n",
        "                                 activation=\"relu\",\n",
        "                                 input_shape=(100,100, 1)))\n",
        "model.add(tf.keras.layers.MaxPooling2D((2,2)))\n",
        "\n",
        "model.add(tf.keras.layers.Flatten())\n",
        "\n",
        "model.add(tf.keras.layers.Dense(64, activation=\"relu\"))\n",
        "model.add(tf.keras.layers.Dropout(0.8))\n",
        "\n",
        "model.add(tf.keras.layers.Dense(128, activation=\"relu\"))\n",
        "model.add(tf.keras.layers.Dropout(0.8))\n",
        "\n",
        "model.add(tf.keras.layers.Dense(10, activation=\"softmax\"))\n",
        "\n",
        "model.compile(optimizer=\"adam\",\n",
        "              loss=\"sparse_categorical_crossentropy\",\n",
        "              metrics=[\"accuracy\"])\n",
        "\n",
        "results = model.fit(X_train, y_train,\n",
        "                    batch_size=64,\n",
        "                    epochs=50,\n",
        "                    validation_data=(X_val, y_val))\n",
        "\n"
      ]
    },
    {
      "cell_type": "code",
      "execution_count": 8,
      "metadata": {
        "id": "sZ5GraIUJzRj",
        "colab": {
          "base_uri": "https://localhost:8080/",
          "height": 279
        },
        "outputId": "d26bd308-849c-4a42-ab33-a6ec36c2d27c"
      },
      "outputs": [
        {
          "output_type": "display_data",
          "data": {
            "text/plain": [
              "<Figure size 432x288 with 1 Axes>"
            ],
            "image/png": "[encoded data removed]"
          },
          "metadata": {
            "needs_background": "light"
          }
        }
      ],
      "source": [
        "plt.plot(results.history[\"loss\"], label=\"loss\")\n",
        "plt.plot(results.history[\"val_loss\"], label=\"val_loss\")\n",
        "plt.xlabel(\"Epoch\")\n",
        "plt.ylabel(\"Loss\")\n",
        "plt.legend()\n",
        "plt.show()"
      ]
    },
    {
      "cell_type": "code",
      "execution_count": 9,
      "metadata": {
        "id": "LOLUSejwK4E9",
        "colab": {
          "base_uri": "https://localhost:8080/",
          "height": 279
        },
        "outputId": "c862cd47-eaab-4628-95f4-afefec2c97eb"
      },
      "outputs": [
        {
          "output_type": "display_data",
          "data": {
            "text/plain": [
              "<Figure size 432x288 with 1 Axes>"
            ],
            "image/png": "[encoded data removed]"
          },
          "metadata": {
            "needs_background": "light"
          }
        }
      ],
      "source": [
        "plt.plot(results.history[\"accuracy\"], label=\"accuracy\")\n",
        "plt.plot(results.history[\"val_accuracy\"], label=\"val_accuracy\")\n",
        "plt.xlabel(\"Epoch\")\n",
        "plt.ylabel(\"Accuracy\")\n",
        "plt.legend()\n",
        "plt.show()"
      ]
    },
    {
      "cell_type": "code",
      "execution_count": 10,
      "metadata": {
        "id": "3HrwifhJLH2R",
        "colab": {
          "base_uri": "https://localhost:8080/"
        },
        "outputId": "9691aa08-881b-4385-d277-3b530a82c144"
      },
      "outputs": [
        {
          "output_type": "stream",
          "name": "stdout",
          "text": [
            "28/28 [==============================] - 4s 139ms/step - loss: 0.9938 - accuracy: 0.7048\n"
          ]
        },
        {
          "output_type": "execute_result",
          "data": {
            "text/plain": [
              "[0.993831217288971, 0.7048054933547974]"
            ]
          },
          "metadata": {},
          "execution_count": 10
        }
      ],
      "source": [
        "model.evaluate(X_test, y_test)"
      ]
    },
    {
      "cell_type": "code",
      "source": [
        "prediction_result = model.predict(X_test[788].reshape((1,100, 100, 1)))\n",
        "prediction_result"
      ],
      "metadata": {
        "colab": {
          "base_uri": "https://localhost:8080/"
        },
        "id": "fAnWrEG_WWJG",
        "outputId": "4f631181-6109-4988-fa87-9731ef666b06"
      },
      "execution_count": 11,
      "outputs": [
        {
          "output_type": "execute_result",
          "data": {
            "text/plain": [
              "array([[1.8670238e-03, 3.3103576e-14, 7.8927831e-14, 1.0026196e-05,\n",
              "        4.2368752e-01, 4.9394764e-02, 2.7870503e-12, 5.2504063e-01,\n",
              "        3.5976776e-15, 6.9166872e-15]], dtype=float32)"
            ]
          },
          "metadata": {},
          "execution_count": 11
        }
      ]
    },
    {
      "cell_type": "code",
      "source": [
        "#Predicted class\n",
        "predicted_class = prediction_result.argmax()\n",
        "#Predicted probability\n",
        "predicted_probability = prediction_result.max()"
      ],
      "metadata": {
        "id": "4TEpL_ZgW-dl"
      },
      "execution_count": 12,
      "outputs": []
    },
    {
      "cell_type": "code",
      "source": [
        "print(f\"This image belongs to class {predicted_class} with {predicted_probability} probability.\")"
      ],
      "metadata": {
        "colab": {
          "base_uri": "https://localhost:8080/"
        },
        "id": "aRY4XY43Xu7o",
        "outputId": "999aa085-d4c2-42e1-d251-e92a098a1f5a"
      },
      "execution_count": 13,
      "outputs": [
        {
          "output_type": "stream",
          "name": "stdout",
          "text": [
            "This image belongs to class 7 with 0.5250406265258789 probability.\n"
          ]
        }
      ]
    }
  ],
  "metadata": {
    "colab": {
      "collapsed_sections": [],
      "provenance": [],
      "mount_file_id": "12zZdQ_PVYVnkra_cmR-p7ol9eBNVFHTg",
      "authorship_tag": "ABX9TyO4h7Y2yLs6MR88BOXMnZM1",
      "include_colab_link": true
    },
    "kernelspec": {
      "display_name": "Python 3",
      "name": "python3"
    },
    "language_info": {
      "name": "python"
    }
  },
  "nbformat": 4,
  "nbformat_minor": 0
}